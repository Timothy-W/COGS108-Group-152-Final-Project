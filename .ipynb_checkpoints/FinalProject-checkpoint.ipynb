{
 "cells": [
  {
   "cell_type": "markdown",
   "metadata": {},
   "source": [
    "# COGS 108 - Final Project "
   ]
  },
  {
   "cell_type": "markdown",
   "metadata": {},
   "source": [
    "# Overview"
   ]
  },
  {
   "cell_type": "markdown",
   "metadata": {},
   "source": [
    "*Fill in your overview here*"
   ]
  },
  {
   "cell_type": "markdown",
   "metadata": {},
   "source": [
    "# Names\n",
    "\n",
    "- Timothy Walker\n",
    "- Miley Cyrus\n",
    "- Sam Smith\n",
    "- J. Cole"
   ]
  },
  {
   "cell_type": "markdown",
   "metadata": {},
   "source": [
    "# Group Members IDs\n",
    "\n",
    "- A14191564\n",
    "- A########\n",
    "- A########\n",
    "- A########"
   ]
  },
  {
   "cell_type": "markdown",
   "metadata": {},
   "source": [
    "# Research Question"
   ]
  },
  {
   "cell_type": "markdown",
   "metadata": {},
   "source": [
    " Is there a correlation between music ranking on the Year end billboard hot 100 charts and homophobic words or phrases of a songs lyrics?"
   ]
  },
  {
   "cell_type": "markdown",
   "metadata": {},
   "source": [
    "## Background and Prior Work"
   ]
  },
  {
   "cell_type": "markdown",
   "metadata": {},
   "source": [
    "We know that homophobic and misogynistic lyrics are present within a wide range of music genres. More specifically, hip-hop and rap music is notable for promoting them. Music has always been about freely expressing the artist’s creativity, however, sometimes their lyrics are misunderstood. Homophobic and misogynistic lyrics in genres most notably hip-hop and rap genre is very prevalent in reinforcing these stereotypes and promote hostility against these groups. Lyrics that describe masculinity and homosexuality through insult or “dissing” are very common among songs withing the rap genere. Other genres such as pop music also have some notion of homophobic or sexist lyrics. For example, Katy Perry released a song about her ex-boyfriend and describes her hatred being in a relationship with him using homophobic lyrics.\n",
    " \n",
    "Furthermore, country music can also promote masculinity and express homophobia. For example, a country music group named “Big & Rich” rants about how the legalization of gay marriage can result in legalizing other phobic things. Likewise, we can observe the prevalent use of these terms not just for personal expression but also to add commentary on several political issues that are controversial within the time period that the song was made.\n",
    "\n",
    "We found a similar project called “Using Python to Analyze Billboard Top 100 Pop Songs”. This group used a kaggle data set containing 50 years of Top Pop songs from 1964-2015 that had columns for Rank, Song, Artist, Year, Lyrics, Source. The lyrics for these songs they analyzed by Sentiment using the sentiwordnet interface. They also analyzed the repetitiveness of songs using compression. This group had to remove repetitive words in their analysis when they ran it through sentiwordnet. This might be something we will have to do with our dataset. This group also used a scatterplot and linear regression to map sentiment. We may have to attempt a similar approach.\n",
    "\n",
    "Sources:\n",
    "https://www.liveabout.com/homophobia-in-music-1415303\n",
    "https://github.com/COGS108/FinalProjects-Sp17/blob/master/092-FinalProject.ipynb\n",
    "\n",
    "\n",
    "\n",
    "References (include links):\n",
    "- 1)\n",
    "- 2)"
   ]
  },
  {
   "cell_type": "markdown",
   "metadata": {},
   "source": [
    "# Hypothesis\n"
   ]
  },
  {
   "cell_type": "markdown",
   "metadata": {},
   "source": [
    "We believe that the use of homophobic and mysoginistic language positively correlates to a songs ranking within the top 100 billboard charts."
   ]
  },
  {
   "cell_type": "markdown",
   "metadata": {},
   "source": [
    "# Dataset(s)"
   ]
  },
  {
   "cell_type": "markdown",
   "metadata": {},
   "source": [
    "We will be utilizing multiple data sets to answer our question.\n",
    "\n",
    "First we needed a data set that contains the ranking and placement of songs on the various billboard charts.\n",
    "\n",
    "\n",
    "The following are data sets that were aquired by web scraping billboard.com.\n",
    "\n",
    "\n",
    "\n",
    "\n",
    "\n",
    "\n",
    "- Dataset Name: adult-pop-songs.csv, alternative-rock-songs.csv, country-songs.csv, hot-mainstream-rock-tracks.csv, r-b-hip-hop-songs.csv, rap-song.csv, pop-songs.csv\n",
    "\n",
    "- Link to the dataset: https://github.com/Timothy-W/COGS108-Group-152-Final-Project/tree/master/data\n",
    "\n",
    "- Number of observations: 972.\n",
    "\n",
    "These data sets were aquired by using a small python webscraping script. Of the seven files, each file is named after the chart on billboard.com which inturn is its genre. Each file contains the songs that hit number 1 for the years 2000 to 2010.\n",
    "\n",
    "\n",
    "\n",
    "\n",
    "\n",
    "\n",
    "- Dataset Name: Year_End_Hot_100_2000-2010-Wikipedia.csv\n",
    "- Link to the dataset: https://github.com/Timothy-W/COGS108-Group-152-Final-Project/blob/master/data/Year_End_Hot_100_2000-2010-Wikipedia.csv\n",
    "- Number of observations: 1100.\n",
    "\n",
    "This is a dataset containing the top 100 songs, over all genres for the years of 2000 to 2010. This data set was collected by hand from Wikipedia.\n",
    "\n",
    "\n",
    "\n",
    "\n",
    "\n",
    "\n",
    "\n",
    "- Dataset Name: GoogleFormResponses.csv, COGS108Survey.csv\n",
    "- Link to the dataset: https://github.com/Timothy-W/COGS108-Group-152-Final-Project/tree/master/data\n",
    "- Number of observations: 35.\n",
    "\n",
    "These data sets are survey results that were conducted to collect a lexicon of homophobic and misogynistic words and phrases.\n",
    "\n",
    "\n",
    "- Dataset Name: wikipedia_homophobic_slurs_men.csv, wikipedia_homophobic_slurs_women.csv\n",
    "- Link to the dataset: https://en.wikipedia.org/wiki/List_of_LGBT_slang_terms\n",
    "- Number of observations: 136\n",
    "\n",
    "These dataset were collected by hand from wikipedia and contain homophobic slurs for men and women.\n",
    "\n",
    "\n",
    "\n",
    "- Dataset Name: songdata.csv\n",
    "- Link to the dataset: https://www.kaggle.com/mousehead/songlyrics\n",
    "- Number of observations: 57650\n",
    "\n",
    "This dataset contains the title, artists and lyrics of songs that we will be match to our ratings datasets for our analysis.\n",
    "\n",
    "\n"
   ]
  },
  {
   "cell_type": "markdown",
   "metadata": {},
   "source": [
    "# Setup"
   ]
  },
  {
   "cell_type": "code",
   "execution_count": 1,
   "metadata": {},
   "outputs": [],
   "source": [
    "#Imports\n",
    "import pandas as pd\n",
    "import numpy as np\n",
    "from PyLyrics import *\n",
    "import time"
   ]
  },
  {
   "cell_type": "code",
   "execution_count": 2,
   "metadata": {},
   "outputs": [],
   "source": [
    "# Code to grab lyrics and build charts_with_lyrics.csv\n",
    "#\n",
    "#chart_with_lyrics = year_end_hot100_df\n",
    "#chart_with_lyrics.columns = ['year','rank','title', 'artist']\n",
    "#\n",
    "#def get_lyrics(row):\n",
    "#    song_title = row['title']\n",
    "#    artist = row['artist']\n",
    "#    \n",
    "#    time.sleep(1)\n",
    "#    \n",
    "#    try:\n",
    "#        lyrics = PyLyrics.getLyrics(song=song_title,singer=artist)\n",
    "#    except:\n",
    "#        lyrics = \"NaN\"\n",
    "#    \n",
    "#    return lyrics\n",
    "#\n",
    "#chart_with_lyrics['lyrics'] = chart_with_lyrics.apply(get_lyrics, axis=1) \n",
    "#chart_with_lyrics.to_csv(path_or_buf='chart_with_lyrics.csv', sep=',', na_rep='', index=False, columns=['year','rank','title', 'artist', 'lyrics'], header=True)\n"
   ]
  },
  {
   "cell_type": "code",
   "execution_count": 3,
   "metadata": {},
   "outputs": [],
   "source": [
    "#Create dataframes for billboard.com ratings\n",
    "adult_pop_df = pd.read_csv(filepath_or_buffer='data/adult-pop-songs.csv')\n",
    "alt_rock_df = pd.read_csv(filepath_or_buffer='data/alternative-rock-songs.csv')\n",
    "country_df = pd.read_csv(filepath_or_buffer='data/country-songs.csv')\n",
    "mainstream_rock_df = pd.read_csv(filepath_or_buffer='data/hot-mainstream-rock-tracks.csv')\n",
    "rb_hiphop_df = pd.read_csv(filepath_or_buffer='data/r-b-hip-hop-songs.csv')\n",
    "rap_df = pd.read_csv(filepath_or_buffer='data/rap-song.csv')\n",
    "pop_df = pd.read_csv(filepath_or_buffer='data/pop-songs.csv')\n",
    "\n",
    "#Create dataframe for year end hot 100, years 2000 to 2010\n",
    "year_end_hot100_df = pd.read_csv(filepath_or_buffer='data/Year_End_Hot_100_2000-2010-Wikipedia.csv')\n",
    "\n",
    "#Create dataframes for homophobics/misogynistic lexicon\n",
    "survey_A_df = pd.read_csv(filepath_or_buffer='data/GoogleFormResponses.csv')\n",
    "survey_B_df = pd.read_csv(filepath_or_buffer='data/COGS108Survey.csv')\n",
    "\n",
    "homophobic_slurs_men = pd.read_csv(filepath_or_buffer='data/wikipedia_homophobic_slurs_men.csv')\n",
    "homophobic_slurs_women = pd.read_csv(filepath_or_buffer='data/wikipedia_homophobic_slurs_women.csv')\n",
    "\n",
    "#Create dataframe of song lyrics\n",
    "chart_with_lyrics_df = pd.read_csv(filepath_or_buffer='data/chart_with_lyrics.csv')"
   ]
  },
  {
   "cell_type": "markdown",
   "metadata": {},
   "source": [
    "# Data Cleaning"
   ]
  },
  {
   "cell_type": "markdown",
   "metadata": {},
   "source": [
    "## Clean the lyrics data\n",
    "\n",
    "TODO:\n",
    "\n",
    "Remove all excess songs from the data base\n",
    "\n",
    "NOTE: '\\\\n' is in song lyrics "
   ]
  },
  {
   "cell_type": "code",
   "execution_count": 12,
   "metadata": {},
   "outputs": [
    {
     "data": {
      "text/plain": [
       "327"
      ]
     },
     "execution_count": 12,
     "metadata": {},
     "output_type": "execute_result"
    }
   ],
   "source": [
    "chart_with_lyrics_df['lyrics'].isnull().sum()\n"
   ]
  },
  {
   "cell_type": "markdown",
   "metadata": {},
   "source": [
    "## Clean survey response and wikipedia slur datasets"
   ]
  },
  {
   "cell_type": "markdown",
   "metadata": {},
   "source": [
    "Next we are going to clean the survey responses and the slurs that were found on wikipedia. When they are cleaned they will be turned into one array/dataframe to use later.\n",
    "\n",
    "Unneeded data at the end of the surveys is also dropped"
   ]
  },
  {
   "cell_type": "markdown",
   "metadata": {},
   "source": [
    "Here we clean 'Google Survey A' and condense it into a single data frame with no duplicates."
   ]
  },
  {
   "cell_type": "code",
   "execution_count": 190,
   "metadata": {},
   "outputs": [],
   "source": [
    "survey_A_df.drop(columns=['Timestamp', '#1.1', '#2.1', '#3.1', '#4.1', '#5.1', '#6.1', '#7.1', '#8.1', '#9.1', '#10.1'], inplace=True) # drop Timestamp and LGBTQ membership column\n",
    "\n",
    "#Bring gender question column to front\n",
    "survey_A_df = survey_A_df[['Do you identify as a member of the LGBTQ community?','What gender do you identify as?', '#1', '#2', '#3', '#4', '#5', '#6', '#7', '#8', '#9', '#10']]\n",
    "\n",
    "survey_A_all_df = survey_A_df.drop(columns=['What gender do you identify as?','Do you identify as a member of the LGBTQ community?'])\n",
    "survey_A_all_df = pd.concat(objs=[survey_A_all_df['#1'], survey_A_all_df['#2'], survey_A_all_df['#3'], survey_A_all_df['#4'], survey_A_all_df['#5'], survey_A_all_df['#6'], survey_A_all_df['#7'], survey_A_all_df['#8'], survey_A_all_df['#9'], survey_A_all_df['#10']] ,ignore_index=True)\n",
    "\n",
    "survey_A_all_df = survey_A_all_df.str.lower()\n",
    "survey_A_all_df = (survey_A_all_df.str.strip()).to_frame()\n",
    "survey_A_all_df.columns = ['slurs']\n",
    "survey_A_all_df.dropna(inplace=True)\n",
    "survey_A_all_df.drop_duplicates(inplace=True)\n",
    "survey_A_all_df.drop(survey_A_all_df.index[[4,16]], inplace=True)\n",
    "survey_A_all_df.iat[14, 0] = 'mallate'\n",
    "survey_A_all_df.reset_index(inplace=True)\n",
    "survey_A_all_df.drop(columns=['index'], inplace=True)\n",
    "\n",
    "\n"
   ]
  },
  {
   "cell_type": "markdown",
   "metadata": {},
   "source": [
    "Here we clean 'Google Survey B' and condense it into a single data frame with no duplicates."
   ]
  },
  {
   "cell_type": "code",
   "execution_count": 191,
   "metadata": {},
   "outputs": [],
   "source": [
    "#Clean survey data\n",
    "survey_B_df.columns = ['Num', 'A', 'B', 'C']\n",
    "survey_B_df.drop(columns=['Num'], inplace=True)\n",
    "\n",
    "#Clean homophobic responses from COGS108Survey.csv google survey\n",
    "survey_b_homo = pd.concat(objs=[survey_B_df.head(n=10)['A'], survey_B_df.head(n=10)['B'], survey_B_df.head(n=10)['C']], ignore_index=True)\n",
    "survey_b_homo = survey_b_homo.str.lower()\n",
    "survey_b_homo = survey_b_homo.str.strip()\n",
    "survey_B_df = survey_b_homo.to_frame()\n",
    "survey_B_df.columns = ['slurs']\n",
    "survey_B_df.dropna(inplace=True)\n",
    "survey_B_df.drop_duplicates(inplace=True)\n",
    "\n",
    "#Looks good\n",
    "#survey_B_df\n",
    "\n"
   ]
  },
  {
   "cell_type": "markdown",
   "metadata": {},
   "source": [
    "We combine the wikipedia slur dataset, 'survey_A_all_df' and 'survey_B_df' into a single datafram/array called 'lexicon_all_df'"
   ]
  },
  {
   "cell_type": "code",
   "execution_count": 192,
   "metadata": {},
   "outputs": [],
   "source": [
    "homophobic_slurs_men.columns = ['slurs']\n",
    "homophobic_slurs_women.columns = ['slurs']\n",
    "\n",
    "def strip_n_lower (string):\n",
    "    return ((string).lower()).strip()\n",
    "\n",
    "lexicon_all_df = pd.concat(objs=[homophobic_slurs_men, homophobic_slurs_women, survey_A_all_df, survey_B_df], sort=True)\n",
    "lexicon_all_df[\"slurs\"] = lexicon_all_df[\"slurs\"].apply(strip_n_lower)\n",
    "lexicon_all_df.reset_index(inplace=True)\n",
    "lexicon_all_df.drop(columns=['index'], inplace=True)\n",
    "\n",
    "\n",
    "# Looks good\n",
    "#lexicon_all_df"
   ]
  },
  {
   "cell_type": "markdown",
   "metadata": {},
   "source": [
    "Next we use 'survey_A_df' that we cleaned previously to create a datafram with homophobic words that have been entered from individuals that are part of the LGBTQ community."
   ]
  },
  {
   "cell_type": "code",
   "execution_count": 193,
   "metadata": {},
   "outputs": [],
   "source": [
    "\n",
    "#Clean homophobic slurs from GoogleFormResponses.csv google survey\n",
    "survey_A_df.drop(survey_A_df.loc[survey_A_df['Do you identify as a member of the LGBTQ community?'] == 'No'].index, inplace=True)\n",
    "\n",
    "#Drop members inclusion question now that we have isolated the 'Yes' responses.\n",
    "survey_A_df.drop(columns=['Do you identify as a member of the LGBTQ community?'], inplace=True)\n",
    "\n",
    "#GENDER DROPPED HERE\n",
    "lexicon_com_df = survey_A_df.drop(columns=['What gender do you identify as?'])\n",
    "\n",
    "\n",
    "lexicon_com_df = pd.concat(objs=[lexicon_com_df['#1'], lexicon_com_df['#2'], lexicon_com_df['#3'], lexicon_com_df['#4'], lexicon_com_df['#5'], lexicon_com_df['#6'], lexicon_com_df['#7'], lexicon_com_df['#8'], lexicon_com_df['#9'], lexicon_com_df['#10']] ,ignore_index=True)\n",
    "lexicon_com_df = lexicon_com_df.str.lower()\n",
    "lexicon_com_df = (lexicon_com_df.str.strip()).to_frame()\n",
    "lexicon_com_df.columns = ['slurs']\n",
    "lexicon_com_df.dropna(inplace=True)\n",
    "lexicon_com_df.drop_duplicates(inplace=True)\n",
    "lexicon_com_df.drop(lexicon_com_df.index[[4,16]], inplace=True)\n",
    "lexicon_com_df.iat[14, 0] = 'mallate'\n",
    "lexicon_com_df.reset_index(inplace=True)\n",
    "lexicon_com_df.drop(columns=['index'], inplace=True)\n",
    "\n",
    "# Looks good\n",
    "#lexicon_com_df"
   ]
  },
  {
   "cell_type": "markdown",
   "metadata": {},
   "source": [
    "Next we took a look and the billboard.com data and performed any necessary cleaning "
   ]
  },
  {
   "cell_type": "markdown",
   "metadata": {},
   "source": [
    "## Clean and combine the billboard.com ratings"
   ]
  },
  {
   "cell_type": "code",
   "execution_count": 206,
   "metadata": {},
   "outputs": [
    {
     "data": {
      "text/plain": [
       "False"
      ]
     },
     "execution_count": 206,
     "metadata": {},
     "output_type": "execute_result"
    }
   ],
   "source": [
    "#adult_pop_df = pd.read_csv(filepath_or_buffer='data/adult-pop-songs.csv')\n",
    "#alt_rock_df = pd.read_csv(filepath_or_buffer='data/alternative-rock-songs.csv')\n",
    "#country_df = pd.read_csv(filepath_or_buffer='data/country-songs.csv')\n",
    "#mainstream_rock_df = pd.read_csv(filepath_or_buffer='data/hot-mainstream-rock-tracks.csv')\n",
    "#rb_hiphop_df = pd.read_csv(filepath_or_buffer='data/r-b-hip-hop-songs.csv')\n",
    "#rap_df = pd.read_csv(filepath_or_buffer='data/rap-song.csv')\n",
    "#pop_df = pd.read_csv(filepath_or_buffer='data/pop-songs.csv')\n",
    "\n",
    "\n",
    "#(song_lyrics_df['song'] == '24/7').any()\n",
    "\n",
    "\n"
   ]
  },
  {
   "cell_type": "markdown",
   "metadata": {},
   "source": [
    "## Clean the year end hot 100 list."
   ]
  },
  {
   "cell_type": "markdown",
   "metadata": {},
   "source": [
    "At the end of the data cleaning we have the following dataframes to work with;\n",
    "\n",
    " - Name: survey_from_com_df\n",
    " - Description: Data frame containing original reponses from individuals of the LGBTQ community with their gender.\n",
    "\n",
    "\n",
    " - Name: lexicon_com_df\n",
    " - Description: Dataframe of just the words from 'survey_from_com_df'\n",
    " \n",
    " \n",
    " - Name: lexicon_all_df\n",
    " - Description: Dataframe containing all homophobic slurs from both google surveys and wikipedia that were collected \n"
   ]
  },
  {
   "cell_type": "markdown",
   "metadata": {},
   "source": [
    "# Data Analysis & Results"
   ]
  },
  {
   "cell_type": "markdown",
   "metadata": {},
   "source": [
    "Include cells that describe the steps in your data analysis."
   ]
  },
  {
   "cell_type": "code",
   "execution_count": 5,
   "metadata": {},
   "outputs": [],
   "source": [
    "## YOUR CODE HERE\n",
    "## FEEL FREE TO ADD MULTIPLE CELLS PER SECTION"
   ]
  },
  {
   "cell_type": "markdown",
   "metadata": {},
   "source": [
    "# Ethics & Privacy"
   ]
  },
  {
   "cell_type": "markdown",
   "metadata": {},
   "source": [
    "Ethical considerations regarding privacy/consent is not needed in this case since we are looking at published songs from artists that are released to the public. However, there could possibly be reputation or media backlash for artists who our data reports being homophobic or misogynistic. We are only analyzing the lyrics as data, and sometimes artists have a different meaning about their songs then what most people infer it as. \n",
    "Our focus will also be emphasized on songs interpreted in English, meaning not all artists' songs around the world will be analyzed. This may seem like only specific regions or genres will be targeted. On the other hand, our project may serve as an initiative to further analyze more genres or artists globally in order to see if the same results are produced.\n"
   ]
  },
  {
   "cell_type": "markdown",
   "metadata": {},
   "source": [
    "# Conclusion & Discussion"
   ]
  },
  {
   "cell_type": "markdown",
   "metadata": {},
   "source": [
    "*Fill in your discussion information here*"
   ]
  }
 ],
 "metadata": {
  "kernelspec": {
   "display_name": "Python 3",
   "language": "python",
   "name": "python3"
  },
  "language_info": {
   "codemirror_mode": {
    "name": "ipython",
    "version": 3
   },
   "file_extension": ".py",
   "mimetype": "text/x-python",
   "name": "python",
   "nbconvert_exporter": "python",
   "pygments_lexer": "ipython3",
   "version": "3.6.7"
  }
 },
 "nbformat": 4,
 "nbformat_minor": 2
}
