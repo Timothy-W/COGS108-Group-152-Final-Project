{
 "cells": [
  {
   "cell_type": "markdown",
   "metadata": {},
   "source": [
    "# COGS 108 - Final Project "
   ]
  },
  {
   "cell_type": "markdown",
   "metadata": {},
   "source": [
    "# Overview"
   ]
  },
  {
   "cell_type": "markdown",
   "metadata": {},
   "source": [
    "*Fill in your overview here*"
   ]
  },
  {
   "cell_type": "markdown",
   "metadata": {},
   "source": [
    "# Names\n",
    "\n",
    "- Timothy Walker\n",
    "- Miley Cyrus\n",
    "- Sam Smith\n",
    "- J. Cole"
   ]
  },
  {
   "cell_type": "markdown",
   "metadata": {},
   "source": [
    "# Group Members IDs\n",
    "\n",
    "- A14191564\n",
    "- A########\n",
    "- A########\n",
    "- A########"
   ]
  },
  {
   "cell_type": "markdown",
   "metadata": {},
   "source": [
    "# Research Question"
   ]
  },
  {
   "cell_type": "markdown",
   "metadata": {},
   "source": [
    " Is there a correlation between music popularity and homophobic and misogynistic lyrics across music genres with the Top 100 billboard charts?"
   ]
  },
  {
   "cell_type": "markdown",
   "metadata": {},
   "source": [
    "## Background and Prior Work"
   ]
  },
  {
   "cell_type": "markdown",
   "metadata": {},
   "source": [
    "We know that homophobic and misogynistic lyrics are present within a wide range of music genres. More specifically, hip-hop and rap music is notable for promoting them. Music has always been about freely expressing the artist’s creativity, however, sometimes their lyrics are misunderstood. Homophobic and misogynistic lyrics in genres most notably hip-hop and rap genre is very prevalent in reinforcing these stereotypes and promote hostility against these groups. Lyrics that describe masculinity and homosexuality through insult or “dissing” are very common among songs withing the rap genere. Other genres such as pop music also have some notion of homophobic or sexist lyrics. For example, Katy Perry released a song about her ex-boyfriend and describes her hatred being in a relationship with him using homophobic lyrics.\n",
    " \n",
    "Furthermore, country music can also promote masculinity and express homophobia. For example, a country music group named “Big & Rich” rants about how the legalization of gay marriage can result in legalizing other phobic things. Likewise, we can observe the prevalent use of these terms not just for personal expression but also to add commentary on several political issues that are controversial within the time period that the song was made.\n",
    "\n",
    "We found a similar project called “Using Python to Analyze Billboard Top 100 Pop Songs”. This group used a kaggle data set containing 50 years of Top Pop songs from 1964-2015 that had columns for Rank, Song, Artist, Year, Lyrics, Source. The lyrics for these songs they analyzed by Sentiment using the sentiwordnet interface. They also analyzed the repetitiveness of songs using compression. This group had to remove repetitive words in their analysis when they ran it through sentiwordnet. This might be something we will have to do with our dataset. This group also used a scatterplot and linear regression to map sentiment. We may have to attempt a similar approach.\n",
    "\n",
    "Sources:\n",
    "https://www.liveabout.com/homophobia-in-music-1415303\n",
    "https://github.com/COGS108/FinalProjects-Sp17/blob/master/092-FinalProject.ipynb\n",
    "\n",
    "\n",
    "\n",
    "References (include links):\n",
    "- 1)\n",
    "- 2)"
   ]
  },
  {
   "cell_type": "markdown",
   "metadata": {},
   "source": [
    "# Hypothesis\n"
   ]
  },
  {
   "cell_type": "markdown",
   "metadata": {},
   "source": [
    "We believe that the use of homophobic and mysoginistic language positively correlates to a songs ranking within the top 100 billboard charts."
   ]
  },
  {
   "cell_type": "markdown",
   "metadata": {},
   "source": [
    "# Dataset(s)"
   ]
  },
  {
   "cell_type": "markdown",
   "metadata": {},
   "source": [
    "We will be utilizing multiple data sets to answer our question.\n",
    "\n",
    "First we needed a data set that contains the ranking and placement of songs on the various billboard charts.\n",
    "\n",
    "\n",
    "The following are data sets that were aquired by web scraping billboard.com.\n",
    "\n",
    "\n",
    "\n",
    "\n",
    "\n",
    "\n",
    "- Dataset Name: adult-pop-songs.csv, alternative-rock-songs.csv, country-songs.csv, hot-mainstream-rock-tracks.csv, r-b-hip-hop-songs.csv, rap-song.csv, pop-songs.csv\n",
    "\n",
    "- Link to the dataset: https://github.com/Timothy-W/COGS108-Group-152-Final-Project/tree/master/data\n",
    "\n",
    "- Number of observations: 972.\n",
    "\n",
    "These data sets were aquired by using a small python webscraping script. Of the seven files, each file is named after the chart on billboard.com which inturn is its genre. Each file contains the songs that hit number 1 for the years 2000 to 2010.\n",
    "\n",
    "\n",
    "\n",
    "\n",
    "\n",
    "\n",
    "- Dataset Name: Year_End_Hot_100_2000-2010-Wikipedia.csv\n",
    "- Link to the dataset: https://github.com/Timothy-W/COGS108-Group-152-Final-Project/blob/master/data/Year_End_Hot_100_2000-2010-Wikipedia.csv\n",
    "- Number of observations: 1100.\n",
    "\n",
    "This is a dataset containing the top 100 songs, over all genres for the years of 2000 to 2010. This data set was collected by hand from Wikipedia.\n",
    "\n",
    "\n",
    "\n",
    "\n",
    "\n",
    "\n",
    "\n",
    "- Dataset Name: GoogleFormResponses.csv, COGS108Survey.csv\n",
    "- Link to the dataset: https://github.com/Timothy-W/COGS108-Group-152-Final-Project/tree/master/data\n",
    "- Number of observations: 35.\n",
    "\n",
    "These data sets are survey results that were conducted to collect a lexicon of homophobic and misogynistic words and phrases.\n",
    "\n",
    "\n",
    "- Dataset Name: wikipedia_homophobic_slurs_men.csv, wikipedia_homophobic_slurs_women.csv\n",
    "- Link to the dataset: https://en.wikipedia.org/wiki/List_of_LGBT_slang_terms\n",
    "- Number of observations: 136\n",
    "\n",
    "These dataset were collected by hand from wikipedia and contain homophobic slurs for men and women.\n",
    "\n",
    "\n",
    "\n",
    "- Dataset Name: songdata.csv\n",
    "- Link to the dataset: https://www.kaggle.com/mousehead/songlyrics\n",
    "- Number of observations: 57650\n",
    "\n",
    "This dataset contains the title, artists and lyrics of songs that we will be match to our ratings datasets for our analysis.\n",
    "\n",
    "\n"
   ]
  },
  {
   "cell_type": "markdown",
   "metadata": {},
   "source": [
    "# Setup"
   ]
  },
  {
   "cell_type": "code",
   "execution_count": 1,
   "metadata": {},
   "outputs": [],
   "source": [
    "#Imports\n",
    "import pandas as pd"
   ]
  },
  {
   "cell_type": "code",
   "execution_count": 6,
   "metadata": {},
   "outputs": [
    {
     "data": {
      "text/plain": [
       "(57650, 4)"
      ]
     },
     "execution_count": 6,
     "metadata": {},
     "output_type": "execute_result"
    }
   ],
   "source": [
    "#Create dataframes for billboard.com ratings\n",
    "adult_pop_df = pd.read_csv(filepath_or_buffer='data/adult-pop-songs.csv')\n",
    "alt_rock_df = pd.read_csv(filepath_or_buffer='data/alternative-rock-songs.csv')\n",
    "country_df = pd.read_csv(filepath_or_buffer='data/country-songs.csv')\n",
    "mainstream_rock_df = pd.read_csv(filepath_or_buffer='data/hot-mainstream-rock-tracks.csv')\n",
    "rb_hiphop_df = pd.read_csv(filepath_or_buffer='data/r-b-hip-hop-songs.csv')\n",
    "rap_df = pd.read_csv(filepath_or_buffer='data/rap-song.csv')\n",
    "pop_df = pd.read_csv(filepath_or_buffer='data/pop-songs.csv')\n",
    "\n",
    "#Create dataframe for year end hot 100, years 2000 to 2010\n",
    "year_end_hot100_df = pd.read_csv(filepath_or_buffer='data/Year_End_Hot_100_2000-2010-Wikipedia.csv')\n",
    "\n",
    "#Create dataframes for homophobics/misogynistic lexicon\n",
    "mixed_lexicon_A_df = pd.read_csv(filepath_or_buffer='data/GoogleFormResponses.csv')\n",
    "mixed_lexicon_B_df = pd.read_csv(filepath_or_buffer='data/COGS108Survey.csv')\n",
    "\n",
    "homophobic_slurs_men = pd.read_csv(filepath_or_buffer='data/wikipedia_homophobic_slurs_men.csv')\n",
    "homophobic_slurs_women = pd.read_csv(filepath_or_buffer='data/wikipedia_homophobic_slurs_women.csv')\n",
    "\n",
    "#Create dataframe of song lyrics\n",
    "song_lyrics_df = pd.read_csv(filepath_or_buffer='data/songdata.csv')"
   ]
  },
  {
   "cell_type": "markdown",
   "metadata": {},
   "source": [
    "# Data Cleaning"
   ]
  },
  {
   "cell_type": "markdown",
   "metadata": {},
   "source": [
    "Describe your data cleaning steps here."
   ]
  },
  {
   "cell_type": "code",
   "execution_count": 4,
   "metadata": {},
   "outputs": [],
   "source": [
    "## YOUR CODE HERE\n",
    "## FEEL FREE TO ADD MULTIPLE CELLS PER SECTION"
   ]
  },
  {
   "cell_type": "markdown",
   "metadata": {},
   "source": [
    "# Data Analysis & Results"
   ]
  },
  {
   "cell_type": "markdown",
   "metadata": {},
   "source": [
    "Include cells that describe the steps in your data analysis."
   ]
  },
  {
   "cell_type": "code",
   "execution_count": 5,
   "metadata": {},
   "outputs": [],
   "source": [
    "## YOUR CODE HERE\n",
    "## FEEL FREE TO ADD MULTIPLE CELLS PER SECTION"
   ]
  },
  {
   "cell_type": "markdown",
   "metadata": {},
   "source": [
    "# Ethics & Privacy"
   ]
  },
  {
   "cell_type": "markdown",
   "metadata": {},
   "source": [
    "Ethical considerations regarding privacy/consent is not needed in this case since we are looking at published songs from artists that are released to the public. However, there could possibly be reputation or media backlash for artists who our data reports being homophobic or misogynistic. We are only analyzing the lyrics as data, and sometimes artists have a different meaning about their songs then what most people infer it as. \n",
    "Our focus will also be emphasized on songs interpreted in English, meaning not all artists' songs around the world will be analyzed. This may seem like only specific regions or genres will be targeted. On the other hand, our project may serve as an initiative to further analyze more genres or artists globally in order to see if the same results are produced.\n"
   ]
  },
  {
   "cell_type": "markdown",
   "metadata": {},
   "source": [
    "# Conclusion & Discussion"
   ]
  },
  {
   "cell_type": "markdown",
   "metadata": {},
   "source": [
    "*Fill in your discussion information here*"
   ]
  }
 ],
 "metadata": {
  "kernelspec": {
   "display_name": "Python 3",
   "language": "python",
   "name": "python3"
  },
  "language_info": {
   "codemirror_mode": {
    "name": "ipython",
    "version": 3
   },
   "file_extension": ".py",
   "mimetype": "text/x-python",
   "name": "python",
   "nbconvert_exporter": "python",
   "pygments_lexer": "ipython3",
   "version": "3.6.7"
  }
 },
 "nbformat": 4,
 "nbformat_minor": 2
}
